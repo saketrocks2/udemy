{
 "cells": [
  {
   "cell_type": "code",
   "execution_count": 1,
   "id": "078d9244",
   "metadata": {
    "_cell_guid": "b1076dfc-b9ad-4769-8c92-a6c4dae69d19",
    "_uuid": "8f2839f25d086af736a60e9eeb907d3b93b6e0e5",
    "execution": {
     "iopub.execute_input": "2023-08-06T09:23:14.894315Z",
     "iopub.status.busy": "2023-08-06T09:23:14.893837Z",
     "iopub.status.idle": "2023-08-06T09:23:14.918989Z",
     "shell.execute_reply": "2023-08-06T09:23:14.917684Z"
    },
    "papermill": {
     "duration": 0.047344,
     "end_time": "2023-08-06T09:23:14.922177",
     "exception": false,
     "start_time": "2023-08-06T09:23:14.874833",
     "status": "completed"
    },
    "tags": []
   },
   "outputs": [],
   "source": [
    "# This Python 3 environment comes with many helpful analytics libraries installed\n",
    "# It is defined by the kaggle/python Docker image: https://github.com/kaggle/docker-python\n",
    "# For example, here's several helpful packages to load\n",
    "\n",
    "import numpy as np # linear algebra\n",
    "import pandas as pd # data processing, CSV file I/O (e.g. pd.read_csv)\n",
    "import matplotlib.pyplot as plt\n",
    "%matplotlib inline\n",
    "# Input data files are available in the read-only \"../input/\" directory\n",
    "# For example, running this (by clicking run or pressing Shift+Enter) will list all files under the input directory\n",
    "\n",
    "import os\n",
    "for dirname, _, filenames in os.walk('/kaggle/input'):\n",
    "    for filename in filenames:\n",
    "        print(os.path.join(dirname, filename))\n",
    "\n",
    "# You can write up to 20GB to the current directory (/kaggle/working/) that gets preserved as output when you create a version using \"Save & Run All\" \n",
    "# You can also write temporary files to /kaggle/temp/, but they won't be saved outside of the current session"
   ]
  },
  {
   "cell_type": "markdown",
   "id": "ba9f5f0e",
   "metadata": {
    "papermill": {
     "duration": 0.018178,
     "end_time": "2023-08-06T09:23:14.957241",
     "exception": false,
     "start_time": "2023-08-06T09:23:14.939063",
     "status": "completed"
    },
    "tags": []
   },
   "source": [
    "Reading the **udemy_courses.csv** into Dataframe(df)."
   ]
  },
  {
   "cell_type": "code",
   "execution_count": 3,
   "id": "67c01ed0",
   "metadata": {
    "execution": {
     "iopub.execute_input": "2023-08-06T09:23:14.991650Z",
     "iopub.status.busy": "2023-08-06T09:23:14.991226Z",
     "iopub.status.idle": "2023-08-06T09:23:15.075263Z",
     "shell.execute_reply": "2023-08-06T09:23:15.073971Z"
    },
    "papermill": {
     "duration": 0.10457,
     "end_time": "2023-08-06T09:23:15.078130",
     "exception": false,
     "start_time": "2023-08-06T09:23:14.973560",
     "status": "completed"
    },
    "tags": []
   },
   "outputs": [],
   "source": [
    "df=pd.read_csv(r\"C:\\Users\\saket\\OneDrive - Adani University\\Documents\\datasets\\python\\udemy_courses.csv\")"
   ]
  },
  {
   "cell_type": "markdown",
   "id": "4bdca25d",
   "metadata": {
    "papermill": {
     "duration": 0.015901,
     "end_time": "2023-08-06T09:23:15.110212",
     "exception": false,
     "start_time": "2023-08-06T09:23:15.094311",
     "status": "completed"
    },
    "tags": []
   },
   "source": [
    "# 1. **Display Top 5 Rows of The Dataset**"
   ]
  },
  {
   "cell_type": "code",
   "execution_count": null,
   "id": "f8c513ae",
   "metadata": {
    "execution": {
     "iopub.execute_input": "2023-08-06T09:23:15.144976Z",
     "iopub.status.busy": "2023-08-06T09:23:15.144606Z",
     "iopub.status.idle": "2023-08-06T09:23:15.175015Z",
     "shell.execute_reply": "2023-08-06T09:23:15.173661Z"
    },
    "papermill": {
     "duration": 0.051291,
     "end_time": "2023-08-06T09:23:15.177784",
     "exception": false,
     "start_time": "2023-08-06T09:23:15.126493",
     "status": "completed"
    },
    "tags": []
   },
   "outputs": [],
   "source": [
    "df.head()"
   ]
  },
  {
   "cell_type": "markdown",
   "id": "9fd06519",
   "metadata": {
    "papermill": {
     "duration": 0.017103,
     "end_time": "2023-08-06T09:23:15.211981",
     "exception": false,
     "start_time": "2023-08-06T09:23:15.194878",
     "status": "completed"
    },
    "tags": []
   },
   "source": [
    "# 2. **Check the Last 3 Rows of The Dataset**"
   ]
  },
  {
   "cell_type": "code",
   "execution_count": null,
   "id": "5f693022",
   "metadata": {
    "execution": {
     "iopub.execute_input": "2023-08-06T09:23:15.249223Z",
     "iopub.status.busy": "2023-08-06T09:23:15.248691Z",
     "iopub.status.idle": "2023-08-06T09:23:15.269383Z",
     "shell.execute_reply": "2023-08-06T09:23:15.267970Z"
    },
    "papermill": {
     "duration": 0.042494,
     "end_time": "2023-08-06T09:23:15.272190",
     "exception": false,
     "start_time": "2023-08-06T09:23:15.229696",
     "status": "completed"
    },
    "tags": []
   },
   "outputs": [],
   "source": [
    "df.tail(3)"
   ]
  },
  {
   "cell_type": "markdown",
   "id": "95cf87ea",
   "metadata": {
    "papermill": {
     "duration": 0.01692,
     "end_time": "2023-08-06T09:23:15.307317",
     "exception": false,
     "start_time": "2023-08-06T09:23:15.290397",
     "status": "completed"
    },
    "tags": []
   },
   "source": [
    "# 3. **Find Shape of Our Dataset (Number of Rows & Number of Columns)**"
   ]
  },
  {
   "cell_type": "code",
   "execution_count": null,
   "id": "13d8e48f",
   "metadata": {
    "execution": {
     "iopub.execute_input": "2023-08-06T09:23:15.343490Z",
     "iopub.status.busy": "2023-08-06T09:23:15.343034Z",
     "iopub.status.idle": "2023-08-06T09:23:15.349258Z",
     "shell.execute_reply": "2023-08-06T09:23:15.348125Z"
    },
    "papermill": {
     "duration": 0.027221,
     "end_time": "2023-08-06T09:23:15.351662",
     "exception": false,
     "start_time": "2023-08-06T09:23:15.324441",
     "status": "completed"
    },
    "tags": []
   },
   "outputs": [],
   "source": [
    "print(\"Rows are :\",df.shape[0],\"Columns are:\",df.shape[1])"
   ]
  },
  {
   "cell_type": "markdown",
   "id": "06f5dd0f",
   "metadata": {
    "papermill": {
     "duration": 0.016728,
     "end_time": "2023-08-06T09:23:15.385384",
     "exception": false,
     "start_time": "2023-08-06T09:23:15.368656",
     "status": "completed"
    },
    "tags": []
   },
   "source": [
    "# 4. **Get Information About Our Dataset Like Total Number Rows, Total Number of Columns, Datatypes of Each Column And Memory Requirement**"
   ]
  },
  {
   "cell_type": "code",
   "execution_count": null,
   "id": "65059fb9",
   "metadata": {
    "execution": {
     "iopub.execute_input": "2023-08-06T09:23:15.421427Z",
     "iopub.status.busy": "2023-08-06T09:23:15.420917Z",
     "iopub.status.idle": "2023-08-06T09:23:15.454345Z",
     "shell.execute_reply": "2023-08-06T09:23:15.452580Z"
    },
    "papermill": {
     "duration": 0.054954,
     "end_time": "2023-08-06T09:23:15.457130",
     "exception": false,
     "start_time": "2023-08-06T09:23:15.402176",
     "status": "completed"
    },
    "tags": []
   },
   "outputs": [],
   "source": [
    "df.info()"
   ]
  },
  {
   "cell_type": "markdown",
   "id": "7caae648",
   "metadata": {
    "papermill": {
     "duration": 0.016769,
     "end_time": "2023-08-06T09:23:15.491233",
     "exception": false,
     "start_time": "2023-08-06T09:23:15.474464",
     "status": "completed"
    },
    "tags": []
   },
   "source": [
    "# 5. **Check Null Values In The Dataset**"
   ]
  },
  {
   "cell_type": "code",
   "execution_count": null,
   "id": "f1c16689",
   "metadata": {
    "execution": {
     "iopub.execute_input": "2023-08-06T09:23:15.527739Z",
     "iopub.status.busy": "2023-08-06T09:23:15.527294Z",
     "iopub.status.idle": "2023-08-06T09:23:15.539591Z",
     "shell.execute_reply": "2023-08-06T09:23:15.537983Z"
    },
    "papermill": {
     "duration": 0.03383,
     "end_time": "2023-08-06T09:23:15.542257",
     "exception": false,
     "start_time": "2023-08-06T09:23:15.508427",
     "status": "completed"
    },
    "tags": []
   },
   "outputs": [],
   "source": [
    "print(\"Any Missing Values?\",df.isnull().values.any())"
   ]
  },
  {
   "cell_type": "markdown",
   "id": "a672d5f7",
   "metadata": {
    "papermill": {
     "duration": 0.017304,
     "end_time": "2023-08-06T09:23:15.577653",
     "exception": false,
     "start_time": "2023-08-06T09:23:15.560349",
     "status": "completed"
    },
    "tags": []
   },
   "source": [
    "# 6. **Check For Duplicate Data and Drop Them**"
   ]
  },
  {
   "cell_type": "code",
   "execution_count": null,
   "id": "d813439a",
   "metadata": {
    "execution": {
     "iopub.execute_input": "2023-08-06T09:23:15.614633Z",
     "iopub.status.busy": "2023-08-06T09:23:15.614177Z",
     "iopub.status.idle": "2023-08-06T09:23:15.640906Z",
     "shell.execute_reply": "2023-08-06T09:23:15.639277Z"
    },
    "papermill": {
     "duration": 0.048317,
     "end_time": "2023-08-06T09:23:15.643477",
     "exception": false,
     "start_time": "2023-08-06T09:23:15.595160",
     "status": "completed"
    },
    "tags": []
   },
   "outputs": [],
   "source": [
    "print(\"Are there any Duplicate Value in data?\",df.duplicated().any(),df.duplicated().sum())"
   ]
  },
  {
   "cell_type": "code",
   "execution_count": null,
   "id": "0648882b",
   "metadata": {
    "execution": {
     "iopub.execute_input": "2023-08-06T09:23:15.683784Z",
     "iopub.status.busy": "2023-08-06T09:23:15.683021Z",
     "iopub.status.idle": "2023-08-06T09:23:15.698426Z",
     "shell.execute_reply": "2023-08-06T09:23:15.697051Z"
    },
    "papermill": {
     "duration": 0.040153,
     "end_time": "2023-08-06T09:23:15.701357",
     "exception": false,
     "start_time": "2023-08-06T09:23:15.661204",
     "status": "completed"
    },
    "tags": []
   },
   "outputs": [],
   "source": [
    "df=df.drop_duplicates()"
   ]
  },
  {
   "cell_type": "code",
   "execution_count": null,
   "id": "6ea688d1",
   "metadata": {
    "execution": {
     "iopub.execute_input": "2023-08-06T09:23:15.738661Z",
     "iopub.status.busy": "2023-08-06T09:23:15.738225Z",
     "iopub.status.idle": "2023-08-06T09:23:15.758200Z",
     "shell.execute_reply": "2023-08-06T09:23:15.756539Z"
    },
    "papermill": {
     "duration": 0.042545,
     "end_time": "2023-08-06T09:23:15.761205",
     "exception": false,
     "start_time": "2023-08-06T09:23:15.718660",
     "status": "completed"
    },
    "tags": []
   },
   "outputs": [],
   "source": [
    "print(\"Are there any Duplicate Value in data?\",df.duplicated().any(),df.duplicated().sum())"
   ]
  },
  {
   "cell_type": "markdown",
   "id": "59ec8c2a",
   "metadata": {
    "papermill": {
     "duration": 0.017158,
     "end_time": "2023-08-06T09:23:15.796280",
     "exception": false,
     "start_time": "2023-08-06T09:23:15.779122",
     "status": "completed"
    },
    "tags": []
   },
   "source": [
    "# 7. **Find Out Number of Courses Per Subjects**"
   ]
  },
  {
   "cell_type": "code",
   "execution_count": null,
   "id": "652b293c",
   "metadata": {
    "execution": {
     "iopub.execute_input": "2023-08-06T09:23:15.833614Z",
     "iopub.status.busy": "2023-08-06T09:23:15.833134Z",
     "iopub.status.idle": "2023-08-06T09:23:15.840934Z",
     "shell.execute_reply": "2023-08-06T09:23:15.839572Z"
    },
    "papermill": {
     "duration": 0.029937,
     "end_time": "2023-08-06T09:23:15.843624",
     "exception": false,
     "start_time": "2023-08-06T09:23:15.813687",
     "status": "completed"
    },
    "tags": []
   },
   "outputs": [],
   "source": [
    "sub=df['subject'].value_counts()"
   ]
  },
  {
   "cell_type": "code",
   "execution_count": null,
   "id": "e6e52952",
   "metadata": {
    "execution": {
     "iopub.execute_input": "2023-08-06T09:23:15.880419Z",
     "iopub.status.busy": "2023-08-06T09:23:15.880006Z",
     "iopub.status.idle": "2023-08-06T09:23:16.201429Z",
     "shell.execute_reply": "2023-08-06T09:23:16.199886Z"
    },
    "papermill": {
     "duration": 0.343353,
     "end_time": "2023-08-06T09:23:16.204380",
     "exception": false,
     "start_time": "2023-08-06T09:23:15.861027",
     "status": "completed"
    },
    "tags": []
   },
   "outputs": [],
   "source": [
    "plt.xlabel('Subject')\n",
    "plt.ylabel('Number of Courses')\n",
    "plt.title('Number of Courses Per Subjects')\n",
    "plt.bar(sub.index,sub.values,width=0.4)\n",
    "plt.xticks(fontsize=8)\n",
    "plt.show()"
   ]
  },
  {
   "cell_type": "markdown",
   "id": "d209ad00",
   "metadata": {
    "papermill": {
     "duration": 0.01774,
     "end_time": "2023-08-06T09:23:16.240597",
     "exception": false,
     "start_time": "2023-08-06T09:23:16.222857",
     "status": "completed"
    },
    "tags": []
   },
   "source": [
    "# 8. **For Which Levels, Udemy Courses Providing The Courses**"
   ]
  },
  {
   "cell_type": "code",
   "execution_count": null,
   "id": "16e5818e",
   "metadata": {
    "execution": {
     "iopub.execute_input": "2023-08-06T09:23:16.279649Z",
     "iopub.status.busy": "2023-08-06T09:23:16.279137Z",
     "iopub.status.idle": "2023-08-06T09:23:16.286659Z",
     "shell.execute_reply": "2023-08-06T09:23:16.285356Z"
    },
    "papermill": {
     "duration": 0.030567,
     "end_time": "2023-08-06T09:23:16.289228",
     "exception": false,
     "start_time": "2023-08-06T09:23:16.258661",
     "status": "completed"
    },
    "tags": []
   },
   "outputs": [],
   "source": [
    "level=df['level'].value_counts()"
   ]
  },
  {
   "cell_type": "code",
   "execution_count": null,
   "id": "59fc5ddc",
   "metadata": {
    "execution": {
     "iopub.execute_input": "2023-08-06T09:23:16.328525Z",
     "iopub.status.busy": "2023-08-06T09:23:16.328059Z",
     "iopub.status.idle": "2023-08-06T09:23:16.621136Z",
     "shell.execute_reply": "2023-08-06T09:23:16.619831Z"
    },
    "papermill": {
     "duration": 0.316034,
     "end_time": "2023-08-06T09:23:16.624040",
     "exception": false,
     "start_time": "2023-08-06T09:23:16.308006",
     "status": "completed"
    },
    "tags": []
   },
   "outputs": [],
   "source": [
    "plt.xlabel('Levels')\n",
    "plt.ylabel('Number of Courses')\n",
    "plt.title('Number of Courses Per Levels')\n",
    "plt.bar(level.index,level.values,width=0.4)\n",
    "plt.xticks(fontsize=8)\n",
    "plt.show()"
   ]
  },
  {
   "cell_type": "markdown",
   "id": "99465ad6",
   "metadata": {
    "papermill": {
     "duration": 0.018632,
     "end_time": "2023-08-06T09:23:16.661823",
     "exception": false,
     "start_time": "2023-08-06T09:23:16.643191",
     "status": "completed"
    },
    "tags": []
   },
   "source": [
    "# 9. **Display The Count of Paid and Free Courses**"
   ]
  },
  {
   "cell_type": "code",
   "execution_count": null,
   "id": "8b44b658",
   "metadata": {
    "execution": {
     "iopub.execute_input": "2023-08-06T09:23:16.703673Z",
     "iopub.status.busy": "2023-08-06T09:23:16.702647Z",
     "iopub.status.idle": "2023-08-06T09:23:16.709929Z",
     "shell.execute_reply": "2023-08-06T09:23:16.708666Z"
    },
    "papermill": {
     "duration": 0.031473,
     "end_time": "2023-08-06T09:23:16.712596",
     "exception": false,
     "start_time": "2023-08-06T09:23:16.681123",
     "status": "completed"
    },
    "tags": []
   },
   "outputs": [],
   "source": [
    "is_paid=df['is_paid'].value_counts()"
   ]
  },
  {
   "cell_type": "code",
   "execution_count": null,
   "id": "42f64e55",
   "metadata": {
    "execution": {
     "iopub.execute_input": "2023-08-06T09:23:16.753954Z",
     "iopub.status.busy": "2023-08-06T09:23:16.753453Z",
     "iopub.status.idle": "2023-08-06T09:23:16.944689Z",
     "shell.execute_reply": "2023-08-06T09:23:16.943375Z"
    },
    "papermill": {
     "duration": 0.217557,
     "end_time": "2023-08-06T09:23:16.950092",
     "exception": false,
     "start_time": "2023-08-06T09:23:16.732535",
     "status": "completed"
    },
    "tags": []
   },
   "outputs": [],
   "source": [
    "label=['Paid','Free']\n",
    "plt.pie(is_paid.values,labels=label,autopct='%0.2f%%',shadow=True,explode=[0,0.2])\n",
    "plt.show()"
   ]
  },
  {
   "cell_type": "markdown",
   "id": "4e4ef52f",
   "metadata": {
    "papermill": {
     "duration": 0.030332,
     "end_time": "2023-08-06T09:23:17.021177",
     "exception": false,
     "start_time": "2023-08-06T09:23:16.990845",
     "status": "completed"
    },
    "tags": []
   },
   "source": [
    "# 10. **Which Course Has More Lectures (Free or Paid)?**"
   ]
  },
  {
   "cell_type": "code",
   "execution_count": null,
   "id": "9100c86e",
   "metadata": {
    "execution": {
     "iopub.execute_input": "2023-08-06T09:23:17.063486Z",
     "iopub.status.busy": "2023-08-06T09:23:17.062539Z",
     "iopub.status.idle": "2023-08-06T09:23:17.071019Z",
     "shell.execute_reply": "2023-08-06T09:23:17.069430Z"
    },
    "papermill": {
     "duration": 0.032939,
     "end_time": "2023-08-06T09:23:17.073953",
     "exception": false,
     "start_time": "2023-08-06T09:23:17.041014",
     "status": "completed"
    },
    "tags": []
   },
   "outputs": [],
   "source": [
    "num_lec=df.groupby('is_paid')['num_lectures'].sum().sort_values(ascending=False)"
   ]
  },
  {
   "cell_type": "code",
   "execution_count": null,
   "id": "ce883081",
   "metadata": {
    "execution": {
     "iopub.execute_input": "2023-08-06T09:23:17.115787Z",
     "iopub.status.busy": "2023-08-06T09:23:17.114808Z",
     "iopub.status.idle": "2023-08-06T09:23:17.338227Z",
     "shell.execute_reply": "2023-08-06T09:23:17.336960Z"
    },
    "papermill": {
     "duration": 0.247722,
     "end_time": "2023-08-06T09:23:17.341015",
     "exception": false,
     "start_time": "2023-08-06T09:23:17.093293",
     "status": "completed"
    },
    "tags": []
   },
   "outputs": [],
   "source": [
    "label=['Paid','Free']\n",
    "fig,ax=plt.subplots(figsize=(2,3))\n",
    "ax.bar(label,num_lec.values,width=0.4)\n",
    "plt.ylabel('Number of Lectures')\n",
    "plt.xlabel('Type of Course')\n",
    "plt.show()"
   ]
  },
  {
   "cell_type": "markdown",
   "id": "90058be4",
   "metadata": {
    "papermill": {
     "duration": 0.020467,
     "end_time": "2023-08-06T09:23:17.381176",
     "exception": false,
     "start_time": "2023-08-06T09:23:17.360709",
     "status": "completed"
    },
    "tags": []
   },
   "source": [
    "# 11. **Which Courses Have A Higher Number of Subscribers Free or Paid?**"
   ]
  },
  {
   "cell_type": "code",
   "execution_count": null,
   "id": "135fe6f2",
   "metadata": {
    "execution": {
     "iopub.execute_input": "2023-08-06T09:23:17.423546Z",
     "iopub.status.busy": "2023-08-06T09:23:17.422666Z",
     "iopub.status.idle": "2023-08-06T09:23:17.430121Z",
     "shell.execute_reply": "2023-08-06T09:23:17.429176Z"
    },
    "papermill": {
     "duration": 0.031743,
     "end_time": "2023-08-06T09:23:17.432829",
     "exception": false,
     "start_time": "2023-08-06T09:23:17.401086",
     "status": "completed"
    },
    "tags": []
   },
   "outputs": [],
   "source": [
    "num_sub=df.groupby('is_paid')['num_subscribers'].sum().sort_values(ascending=False)"
   ]
  },
  {
   "cell_type": "code",
   "execution_count": null,
   "id": "4f646f33",
   "metadata": {
    "execution": {
     "iopub.execute_input": "2023-08-06T09:23:17.475466Z",
     "iopub.status.busy": "2023-08-06T09:23:17.474588Z",
     "iopub.status.idle": "2023-08-06T09:23:17.649078Z",
     "shell.execute_reply": "2023-08-06T09:23:17.647868Z"
    },
    "papermill": {
     "duration": 0.198931,
     "end_time": "2023-08-06T09:23:17.651830",
     "exception": false,
     "start_time": "2023-08-06T09:23:17.452899",
     "status": "completed"
    },
    "tags": []
   },
   "outputs": [],
   "source": [
    "label=['Paid','Free']\n",
    "plt.pie(num_sub.values,labels=label,autopct='%0.2f%%',shadow=True,explode=[0,0.1])\n",
    "plt.title('Subscribers for Free or Paid Course')\n",
    "plt.show()"
   ]
  },
  {
   "cell_type": "markdown",
   "id": "e493c86f",
   "metadata": {
    "papermill": {
     "duration": 0.02371,
     "end_time": "2023-08-06T09:23:17.696668",
     "exception": false,
     "start_time": "2023-08-06T09:23:17.672958",
     "status": "completed"
    },
    "tags": []
   },
   "source": [
    "# 12. **Which Level Has The Highest Number of Subscribers?**"
   ]
  },
  {
   "cell_type": "code",
   "execution_count": null,
   "id": "ac33732a",
   "metadata": {
    "execution": {
     "iopub.execute_input": "2023-08-06T09:23:17.739443Z",
     "iopub.status.busy": "2023-08-06T09:23:17.738929Z",
     "iopub.status.idle": "2023-08-06T09:23:17.747472Z",
     "shell.execute_reply": "2023-08-06T09:23:17.746496Z"
    },
    "papermill": {
     "duration": 0.033009,
     "end_time": "2023-08-06T09:23:17.750092",
     "exception": false,
     "start_time": "2023-08-06T09:23:17.717083",
     "status": "completed"
    },
    "tags": []
   },
   "outputs": [],
   "source": [
    "level_sub=df.groupby('level')['num_subscribers'].sum().sort_values(ascending=False)"
   ]
  },
  {
   "cell_type": "code",
   "execution_count": null,
   "id": "802d006e",
   "metadata": {
    "execution": {
     "iopub.execute_input": "2023-08-06T09:23:17.794025Z",
     "iopub.status.busy": "2023-08-06T09:23:17.793288Z",
     "iopub.status.idle": "2023-08-06T09:23:17.935368Z",
     "shell.execute_reply": "2023-08-06T09:23:17.934200Z"
    },
    "papermill": {
     "duration": 0.167233,
     "end_time": "2023-08-06T09:23:17.938344",
     "exception": false,
     "start_time": "2023-08-06T09:23:17.771111",
     "status": "completed"
    },
    "tags": []
   },
   "outputs": [],
   "source": [
    "plt.pie(level_sub.values,labels=level_sub.index,autopct='%0.1f%%',explode=[0,0,0,0.2],startangle=180)\n",
    "plt.title('Subscribers for each Levels')\n",
    "plt.show()"
   ]
  },
  {
   "cell_type": "markdown",
   "id": "24eb790c",
   "metadata": {
    "papermill": {
     "duration": 0.020637,
     "end_time": "2023-08-06T09:23:17.979570",
     "exception": false,
     "start_time": "2023-08-06T09:23:17.958933",
     "status": "completed"
    },
    "tags": []
   },
   "source": [
    "# 13. **Find Most Popular Course Title**"
   ]
  },
  {
   "cell_type": "code",
   "execution_count": null,
   "id": "7516e5d6",
   "metadata": {
    "execution": {
     "iopub.execute_input": "2023-08-06T09:23:18.030696Z",
     "iopub.status.busy": "2023-08-06T09:23:18.030223Z",
     "iopub.status.idle": "2023-08-06T09:23:18.041558Z",
     "shell.execute_reply": "2023-08-06T09:23:18.040366Z"
    },
    "papermill": {
     "duration": 0.042737,
     "end_time": "2023-08-06T09:23:18.043916",
     "exception": false,
     "start_time": "2023-08-06T09:23:18.001179",
     "status": "completed"
    },
    "tags": []
   },
   "outputs": [],
   "source": [
    "df[df['num_subscribers'].max()==df['num_subscribers']]['course_title']"
   ]
  },
  {
   "cell_type": "markdown",
   "id": "18e5d503",
   "metadata": {
    "papermill": {
     "duration": 0.020736,
     "end_time": "2023-08-06T09:23:18.085482",
     "exception": false,
     "start_time": "2023-08-06T09:23:18.064746",
     "status": "completed"
    },
    "tags": []
   },
   "source": [
    "# 14. **Display 10 Most Popular Courses As Per Number of Subscribers**"
   ]
  },
  {
   "cell_type": "code",
   "execution_count": null,
   "id": "7355f5fb",
   "metadata": {
    "execution": {
     "iopub.execute_input": "2023-08-06T09:23:18.130997Z",
     "iopub.status.busy": "2023-08-06T09:23:18.129793Z",
     "iopub.status.idle": "2023-08-06T09:23:18.138267Z",
     "shell.execute_reply": "2023-08-06T09:23:18.137206Z"
    },
    "papermill": {
     "duration": 0.033923,
     "end_time": "2023-08-06T09:23:18.140993",
     "exception": false,
     "start_time": "2023-08-06T09:23:18.107070",
     "status": "completed"
    },
    "tags": []
   },
   "outputs": [],
   "source": [
    "top_10=df.sort_values(by='num_subscribers',ascending=False).head(10)"
   ]
  },
  {
   "cell_type": "code",
   "execution_count": null,
   "id": "8832a6ed",
   "metadata": {
    "execution": {
     "iopub.execute_input": "2023-08-06T09:23:18.186017Z",
     "iopub.status.busy": "2023-08-06T09:23:18.184674Z",
     "iopub.status.idle": "2023-08-06T09:23:18.732638Z",
     "shell.execute_reply": "2023-08-06T09:23:18.731554Z"
    },
    "papermill": {
     "duration": 0.573752,
     "end_time": "2023-08-06T09:23:18.735653",
     "exception": false,
     "start_time": "2023-08-06T09:23:18.161901",
     "status": "completed"
    },
    "tags": []
   },
   "outputs": [],
   "source": [
    "x=top_10['course_title']\n",
    "y=top_10['num_subscribers']\n",
    "plt.ylabel('Course Title')\n",
    "plt.xlabel('Number of Subscribers')\n",
    "plt.title('Most Popular Courses As Per no. of Subscribers')\n",
    "plt.barh(x,y)\n",
    "plt.grid(True)\n",
    "plt.show()"
   ]
  },
  {
   "cell_type": "markdown",
   "id": "fa239c08",
   "metadata": {
    "papermill": {
     "duration": 0.02204,
     "end_time": "2023-08-06T09:23:18.782380",
     "exception": false,
     "start_time": "2023-08-06T09:23:18.760340",
     "status": "completed"
    },
    "tags": []
   },
   "source": [
    "# 15. **Find The Course Which Is Having The Highest Number of Reviews.**"
   ]
  },
  {
   "cell_type": "code",
   "execution_count": null,
   "id": "60636359",
   "metadata": {
    "execution": {
     "iopub.execute_input": "2023-08-06T09:23:18.830592Z",
     "iopub.status.busy": "2023-08-06T09:23:18.830098Z",
     "iopub.status.idle": "2023-08-06T09:23:18.841490Z",
     "shell.execute_reply": "2023-08-06T09:23:18.840350Z"
    },
    "papermill": {
     "duration": 0.038637,
     "end_time": "2023-08-06T09:23:18.843929",
     "exception": false,
     "start_time": "2023-08-06T09:23:18.805292",
     "status": "completed"
    },
    "tags": []
   },
   "outputs": [],
   "source": [
    "df[df['num_reviews'].max()==df['num_reviews']]['course_title']"
   ]
  },
  {
   "cell_type": "markdown",
   "id": "bbeda886",
   "metadata": {
    "papermill": {
     "duration": 0.02225,
     "end_time": "2023-08-06T09:23:18.889665",
     "exception": false,
     "start_time": "2023-08-06T09:23:18.867415",
     "status": "completed"
    },
    "tags": []
   },
   "source": [
    "# 16. **Does Price Affect the Number of Reviews?**"
   ]
  },
  {
   "cell_type": "code",
   "execution_count": null,
   "id": "a46f2596",
   "metadata": {
    "execution": {
     "iopub.execute_input": "2023-08-06T09:23:18.939186Z",
     "iopub.status.busy": "2023-08-06T09:23:18.938748Z",
     "iopub.status.idle": "2023-08-06T09:23:19.361877Z",
     "shell.execute_reply": "2023-08-06T09:23:19.360551Z"
    },
    "papermill": {
     "duration": 0.452519,
     "end_time": "2023-08-06T09:23:19.364879",
     "exception": false,
     "start_time": "2023-08-06T09:23:18.912360",
     "status": "completed"
    },
    "tags": []
   },
   "outputs": [],
   "source": [
    "plt.figure(figsize=(10,6))\n",
    "plt.ylabel('Number of Reviews')\n",
    "plt.xlabel('Number of Subscribers')\n",
    "plt.title('Most Popular Courses As Per no. of Subscribers')\n",
    "plt.scatter(df['price'],df['num_reviews'])"
   ]
  },
  {
   "cell_type": "markdown",
   "id": "c17e20f4",
   "metadata": {
    "papermill": {
     "duration": 0.022786,
     "end_time": "2023-08-06T09:23:19.412069",
     "exception": false,
     "start_time": "2023-08-06T09:23:19.389283",
     "status": "completed"
    },
    "tags": []
   },
   "source": [
    "Yes, as price increases the number of reviews also increases."
   ]
  },
  {
   "cell_type": "markdown",
   "id": "115dd7f5",
   "metadata": {
    "papermill": {
     "duration": 0.022975,
     "end_time": "2023-08-06T09:23:19.458241",
     "exception": false,
     "start_time": "2023-08-06T09:23:19.435266",
     "status": "completed"
    },
    "tags": []
   },
   "source": [
    "# 17. **Find Total Number of Courses Related To Python**"
   ]
  },
  {
   "cell_type": "code",
   "execution_count": null,
   "id": "c68bb220",
   "metadata": {
    "execution": {
     "iopub.execute_input": "2023-08-06T09:23:19.508160Z",
     "iopub.status.busy": "2023-08-06T09:23:19.507703Z",
     "iopub.status.idle": "2023-08-06T09:23:19.519779Z",
     "shell.execute_reply": "2023-08-06T09:23:19.518694Z"
    },
    "papermill": {
     "duration": 0.040002,
     "end_time": "2023-08-06T09:23:19.522309",
     "exception": false,
     "start_time": "2023-08-06T09:23:19.482307",
     "status": "completed"
    },
    "tags": []
   },
   "outputs": [],
   "source": [
    "number_of_courses_related_to_python=df['course_title'].str.contains('Python',case=False).sum()"
   ]
  },
  {
   "cell_type": "code",
   "execution_count": null,
   "id": "0348c9a4",
   "metadata": {
    "execution": {
     "iopub.execute_input": "2023-08-06T09:23:19.571960Z",
     "iopub.status.busy": "2023-08-06T09:23:19.571069Z",
     "iopub.status.idle": "2023-08-06T09:23:19.577366Z",
     "shell.execute_reply": "2023-08-06T09:23:19.576198Z"
    },
    "papermill": {
     "duration": 0.033992,
     "end_time": "2023-08-06T09:23:19.580195",
     "exception": false,
     "start_time": "2023-08-06T09:23:19.546203",
     "status": "completed"
    },
    "tags": []
   },
   "outputs": [],
   "source": [
    "print(\"Total Number of Courses Related To Python are\",number_of_courses_related_to_python)"
   ]
  },
  {
   "cell_type": "markdown",
   "id": "b61bbaf1",
   "metadata": {
    "papermill": {
     "duration": 0.022951,
     "end_time": "2023-08-06T09:23:19.626610",
     "exception": false,
     "start_time": "2023-08-06T09:23:19.603659",
     "status": "completed"
    },
    "tags": []
   },
   "source": [
    "# 18. **Display 10 Most Popular Python Courses As Per Number of Subscribers**"
   ]
  },
  {
   "cell_type": "code",
   "execution_count": null,
   "id": "7a440464",
   "metadata": {
    "execution": {
     "iopub.execute_input": "2023-08-06T09:23:19.675700Z",
     "iopub.status.busy": "2023-08-06T09:23:19.675233Z",
     "iopub.status.idle": "2023-08-06T09:23:19.693210Z",
     "shell.execute_reply": "2023-08-06T09:23:19.689049Z"
    },
    "papermill": {
     "duration": 0.046036,
     "end_time": "2023-08-06T09:23:19.696009",
     "exception": false,
     "start_time": "2023-08-06T09:23:19.649973",
     "status": "completed"
    },
    "tags": []
   },
   "outputs": [],
   "source": [
    "python_top_10=df[df['course_title'].str.contains('Python',case=False)].sort_values(by='num_subscribers',ascending=False).head(10)"
   ]
  },
  {
   "cell_type": "code",
   "execution_count": null,
   "id": "42b689ef",
   "metadata": {
    "execution": {
     "iopub.execute_input": "2023-08-06T09:23:19.745802Z",
     "iopub.status.busy": "2023-08-06T09:23:19.745316Z",
     "iopub.status.idle": "2023-08-06T09:23:20.149274Z",
     "shell.execute_reply": "2023-08-06T09:23:20.148079Z"
    },
    "papermill": {
     "duration": 0.432714,
     "end_time": "2023-08-06T09:23:20.152815",
     "exception": false,
     "start_time": "2023-08-06T09:23:19.720101",
     "status": "completed"
    },
    "tags": []
   },
   "outputs": [],
   "source": [
    "x=python_top_10['course_title']\n",
    "y=python_top_10['num_subscribers']\n",
    "plt.ylabel('Courses Related to Python')\n",
    "plt.xlabel('Number of Subscribers')\n",
    "plt.title('Most Popular Python Courses As Per no. of Subscribers')\n",
    "plt.barh(x,y)\n",
    "plt.grid(True)\n",
    "plt.show()"
   ]
  },
  {
   "cell_type": "markdown",
   "id": "f257deeb",
   "metadata": {
    "papermill": {
     "duration": 0.024305,
     "end_time": "2023-08-06T09:23:20.203270",
     "exception": false,
     "start_time": "2023-08-06T09:23:20.178965",
     "status": "completed"
    },
    "tags": []
   },
   "source": [
    "# 19. **In Which Year The Highest Number of Courses Were Posted?**"
   ]
  },
  {
   "cell_type": "code",
   "execution_count": null,
   "id": "27d30760",
   "metadata": {
    "execution": {
     "iopub.execute_input": "2023-08-06T09:23:20.255359Z",
     "iopub.status.busy": "2023-08-06T09:23:20.254471Z",
     "iopub.status.idle": "2023-08-06T09:23:20.263527Z",
     "shell.execute_reply": "2023-08-06T09:23:20.262558Z"
    },
    "papermill": {
     "duration": 0.038296,
     "end_time": "2023-08-06T09:23:20.266273",
     "exception": false,
     "start_time": "2023-08-06T09:23:20.227977",
     "status": "completed"
    },
    "tags": []
   },
   "outputs": [],
   "source": [
    "df['published_year']=df['published_timestamp'].map(lambda x:x.year)"
   ]
  },
  {
   "cell_type": "code",
   "execution_count": null,
   "id": "5322de9b",
   "metadata": {
    "execution": {
     "iopub.execute_input": "2023-08-06T09:23:20.318710Z",
     "iopub.status.busy": "2023-08-06T09:23:20.317819Z",
     "iopub.status.idle": "2023-08-06T09:23:20.324508Z",
     "shell.execute_reply": "2023-08-06T09:23:20.323394Z"
    },
    "papermill": {
     "duration": 0.0356,
     "end_time": "2023-08-06T09:23:20.327063",
     "exception": false,
     "start_time": "2023-08-06T09:23:20.291463",
     "status": "completed"
    },
    "tags": []
   },
   "outputs": [],
   "source": [
    "year=df['published_year'].value_counts()"
   ]
  },
  {
   "cell_type": "code",
   "execution_count": null,
   "id": "dfd91ae9",
   "metadata": {
    "execution": {
     "iopub.execute_input": "2023-08-06T09:23:20.379421Z",
     "iopub.status.busy": "2023-08-06T09:23:20.378504Z",
     "iopub.status.idle": "2023-08-06T09:23:20.708969Z",
     "shell.execute_reply": "2023-08-06T09:23:20.707785Z"
    },
    "papermill": {
     "duration": 0.359492,
     "end_time": "2023-08-06T09:23:20.711595",
     "exception": false,
     "start_time": "2023-08-06T09:23:20.352103",
     "status": "completed"
    },
    "tags": []
   },
   "outputs": [],
   "source": [
    "x=year.index\n",
    "y=year.values\n",
    "plt.ylabel('Number of Courses')\n",
    "plt.xlabel('Year')\n",
    "plt.title('Number of Courses posted per year')\n",
    "plt.bar(x,y)\n",
    "plt.grid(True)\n",
    "plt.show()"
   ]
  },
  {
   "cell_type": "markdown",
   "id": "1f3354e2",
   "metadata": {
    "papermill": {
     "duration": 0.031802,
     "end_time": "2023-08-06T09:23:20.770765",
     "exception": false,
     "start_time": "2023-08-06T09:23:20.738963",
     "status": "completed"
    },
    "tags": []
   },
   "source": [
    "By the above bar graph, we conclude that in 2016 the highest number of courses were posted."
   ]
  },
  {
   "cell_type": "markdown",
   "id": "8cdfad99",
   "metadata": {
    "papermill": {
     "duration": 0.029223,
     "end_time": "2023-08-06T09:23:20.836157",
     "exception": false,
     "start_time": "2023-08-06T09:23:20.806934",
     "status": "completed"
    },
    "tags": []
   },
   "source": [
    "# 20. **Display Category-Wise Count of Posted Subjects [Year Wise]**"
   ]
  },
  {
   "cell_type": "code",
   "execution_count": null,
   "id": "5d029ea2",
   "metadata": {
    "execution": {
     "iopub.execute_input": "2023-08-06T09:23:20.889073Z",
     "iopub.status.busy": "2023-08-06T09:23:20.888056Z",
     "iopub.status.idle": "2023-08-06T09:23:20.905412Z",
     "shell.execute_reply": "2023-08-06T09:23:20.904213Z"
    },
    "papermill": {
     "duration": 0.046589,
     "end_time": "2023-08-06T09:23:20.907817",
     "exception": false,
     "start_time": "2023-08-06T09:23:20.861228",
     "status": "completed"
    },
    "tags": []
   },
   "outputs": [],
   "source": [
    "df.groupby('published_year')['subject'].value_counts()"
   ]
  },
  {
   "cell_type": "code",
   "execution_count": null,
   "id": "738b7a9c",
   "metadata": {
    "execution": {
     "iopub.execute_input": "2023-08-06T09:23:20.961252Z",
     "iopub.status.busy": "2023-08-06T09:23:20.960489Z",
     "iopub.status.idle": "2023-08-06T09:23:20.970275Z",
     "shell.execute_reply": "2023-08-06T09:23:20.969252Z"
    },
    "papermill": {
     "duration": 0.039517,
     "end_time": "2023-08-06T09:23:20.972861",
     "exception": false,
     "start_time": "2023-08-06T09:23:20.933344",
     "status": "completed"
    },
    "tags": []
   },
   "outputs": [],
   "source": [
    "data = {\n",
    "    'published_year': [2011, 2012, 2012, 2012, 2012, 2013, 2013, 2013, 2013, 2014, 2014, 2014, 2014, 2015, 2015, 2015, 2015, 2016, 2016, 2016, 2016, 2017, 2017, 2017, 2017],\n",
    "    'subject': ['Web Development', 'Web Development', 'Graphic Design', 'Musical Instruments', 'Business Finance', 'Business Finance', 'Web Development', 'Musical Instruments', 'Graphic Design', 'Business Finance', 'Musical Instruments', 'Web Development', 'Graphic Design', 'Business Finance', 'Web Development', 'Musical Instruments', 'Graphic Design', 'Web Development', 'Business Finance', 'Musical Instruments', 'Graphic Design', 'Business Finance', 'Web Development', 'Graphic Design', 'Musical Instruments'],\n",
    "    'count': [5, 19, 10, 10, 6, 84, 55, 39, 23, 192, 120, 113, 65, 339, 336, 171, 168, 448, 347, 228, 181, 223, 223, 155, 112]\n",
    "}\n",
    "\n",
    "data = pd.DataFrame(data)"
   ]
  },
  {
   "cell_type": "code",
   "execution_count": null,
   "id": "c969e149",
   "metadata": {
    "execution": {
     "iopub.execute_input": "2023-08-06T09:23:21.027773Z",
     "iopub.status.busy": "2023-08-06T09:23:21.027020Z",
     "iopub.status.idle": "2023-08-06T09:23:21.478492Z",
     "shell.execute_reply": "2023-08-06T09:23:21.477589Z"
    },
    "papermill": {
     "duration": 0.482473,
     "end_time": "2023-08-06T09:23:21.481016",
     "exception": false,
     "start_time": "2023-08-06T09:23:20.998543",
     "status": "completed"
    },
    "tags": []
   },
   "outputs": [],
   "source": [
    "# Create a pivot table to rearrange the data for plotting\n",
    "pivot_df = data.pivot(index='published_year', columns='subject', values='count')\n",
    "\n",
    "# Plot the pivot table using a bar plot\n",
    "pivot_df.plot(kind='bar', figsize=(10, 6))\n",
    "\n",
    "# Set labels and title\n",
    "plt.xlabel('Published Year')\n",
    "plt.ylabel('Count')\n",
    "plt.title('Publication Counts by Subject and Year')\n",
    "\n",
    "# Show the plot\n",
    "plt.show()"
   ]
  },
  {
   "cell_type": "code",
   "execution_count": 7,
   "id": "bfc25038",
   "metadata": {},
   "outputs": [
    {
     "data": {
      "text/html": [
       "<div>\n",
       "<style scoped>\n",
       "    .dataframe tbody tr th:only-of-type {\n",
       "        vertical-align: middle;\n",
       "    }\n",
       "\n",
       "    .dataframe tbody tr th {\n",
       "        vertical-align: top;\n",
       "    }\n",
       "\n",
       "    .dataframe thead th {\n",
       "        text-align: right;\n",
       "    }\n",
       "</style>\n",
       "<table border=\"1\" class=\"dataframe\">\n",
       "  <thead>\n",
       "    <tr style=\"text-align: right;\">\n",
       "      <th></th>\n",
       "      <th>subject</th>\n",
       "      <th>price</th>\n",
       "    </tr>\n",
       "  </thead>\n",
       "  <tbody>\n",
       "    <tr>\n",
       "      <th>0</th>\n",
       "      <td>Business Finance</td>\n",
       "      <td>68.552301</td>\n",
       "    </tr>\n",
       "    <tr>\n",
       "      <th>1</th>\n",
       "      <td>Graphic Design</td>\n",
       "      <td>57.827529</td>\n",
       "    </tr>\n",
       "    <tr>\n",
       "      <th>2</th>\n",
       "      <td>Musical Instruments</td>\n",
       "      <td>49.558824</td>\n",
       "    </tr>\n",
       "    <tr>\n",
       "      <th>3</th>\n",
       "      <td>Web Development</td>\n",
       "      <td>77.033333</td>\n",
       "    </tr>\n",
       "  </tbody>\n",
       "</table>\n",
       "</div>"
      ],
      "text/plain": [
       "               subject      price\n",
       "0     Business Finance  68.552301\n",
       "1       Graphic Design  57.827529\n",
       "2  Musical Instruments  49.558824\n",
       "3      Web Development  77.033333"
      ]
     },
     "execution_count": 7,
     "metadata": {},
     "output_type": "execute_result"
    }
   ],
   "source": [
    "df.groupby('subject').agg({'price':'mean'}).reset_index()"
   ]
  },
  {
   "cell_type": "code",
   "execution_count": null,
   "id": "51ab2c0e",
   "metadata": {},
   "outputs": [],
   "source": []
  },
  {
   "cell_type": "code",
   "execution_count": null,
   "id": "4155729d",
   "metadata": {},
   "outputs": [],
   "source": []
  },
  {
   "cell_type": "code",
   "execution_count": null,
   "id": "d911d6b3",
   "metadata": {},
   "outputs": [],
   "source": []
  }
 ],
 "metadata": {
  "kernelspec": {
   "display_name": "Python 3 (ipykernel)",
   "language": "python",
   "name": "python3"
  },
  "language_info": {
   "codemirror_mode": {
    "name": "ipython",
    "version": 3
   },
   "file_extension": ".py",
   "mimetype": "text/x-python",
   "name": "python",
   "nbconvert_exporter": "python",
   "pygments_lexer": "ipython3",
   "version": "3.11.5"
  },
  "papermill": {
   "default_parameters": {},
   "duration": 20.33819,
   "end_time": "2023-08-06T09:23:22.429964",
   "environment_variables": {},
   "exception": null,
   "input_path": "__notebook__.ipynb",
   "output_path": "__notebook__.ipynb",
   "parameters": {},
   "start_time": "2023-08-06T09:23:02.091774",
   "version": "2.4.0"
  }
 },
 "nbformat": 4,
 "nbformat_minor": 5
}
